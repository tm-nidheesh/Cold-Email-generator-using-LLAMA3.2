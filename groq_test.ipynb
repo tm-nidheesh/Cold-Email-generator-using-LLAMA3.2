{
 "cells": [
  {
   "cell_type": "code",
   "execution_count": 3,
   "metadata": {},
   "outputs": [],
   "source": [
    "from langchain_groq import ChatGroq\n",
    "\n",
    "llm = ChatGroq(\n",
    "    model_name=\"llama-3.2-1b-preview\",\n",
    "    temperature=0,\n",
    "    groq_api_key=\"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\"\n",
    "    \n",
    ")"
   ]
  },
  {
   "cell_type": "code",
   "execution_count": 5,
   "metadata": {},
   "outputs": [
    {
     "name": "stdout",
     "output_type": "stream",
     "text": [
      "The first man to walk on the moon was Neil Armstrong. He stepped out of the lunar module Eagle and onto the moon's surface on July 20, 1969, during the Apollo 11 mission. Armstrong famously declared, \"That's one small step for man, one giant leap for mankind,\" as he became the first person to set foot on the moon.\n",
      "\n",
      "Armstrong was followed by fellow astronaut Edwin \"Buzz\" Aldrin, who also walked on the moon's surface. Michael Collins remained in orbit around the moon in the command module Columbia.\n",
      "\n",
      "Neil Armstrong's historic moonwalk lasted about two and a half hours, and he collected samples and conducted experiments during his time on the moon.\n"
     ]
    }
   ],
   "source": [
    "response = llm.invoke('Who was the first man to walk on moon')\n",
    "print(response.content)"
   ]
  }
 ],
 "metadata": {
  "kernelspec": {
   "display_name": "base",
   "language": "python",
   "name": "python3"
  },
  "language_info": {
   "codemirror_mode": {
    "name": "ipython",
    "version": 3
   },
   "file_extension": ".py",
   "mimetype": "text/x-python",
   "name": "python",
   "nbconvert_exporter": "python",
   "pygments_lexer": "ipython3",
   "version": "3.8.8"
  }
 },
 "nbformat": 4,
 "nbformat_minor": 2
}
